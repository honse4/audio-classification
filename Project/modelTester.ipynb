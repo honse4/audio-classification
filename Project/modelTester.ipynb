{
 "cells": [
  {
   "cell_type": "code",
   "execution_count": 1,
   "id": "dad8d5e8-3994-4cd1-9464-791d889ea6f9",
   "metadata": {},
   "outputs": [],
   "source": [
    "import pickle\n",
    "import librosa as lb\n",
    "import numpy as np\n",
    "import os\n",
    "\n",
    "with open('model.pkl', 'rb') as file: \n",
    "    loaded_model = pickle.load(file)\n",
    "\n",
    "with open('scaler.pkl', 'rb') as scaler_file:\n",
    "    loaded_scaler = pickle.load(scaler_file)"
   ]
  },
  {
   "cell_type": "code",
   "execution_count": 2,
   "id": "32e5579d-6e9e-49b7-9c72-c25fa29c40c8",
   "metadata": {},
   "outputs": [],
   "source": [
    "def load_data(dir):\n",
    "  audio_data = []\n",
    "  for file in os.listdir(dir):\n",
    "    data, fs = lb.load(os.path.join(dir, file), sr=None)\n",
    "    normalized_data = data/np.max(np.abs(data))\n",
    "    audio_data.append((normalized_data, fs))\n",
    "  return audio_data\n",
    "\n",
    "def extract_mfcc(signal, sr, n_mfcc=13):\n",
    "    mfccs = lb.feature.mfcc(y=signal, sr=sr, n_mfcc=n_mfcc)\n",
    "    return np.mean(mfccs, axis=1)"
   ]
  },
  {
   "cell_type": "code",
   "execution_count": 3,
   "id": "fa0e7f96-281f-45f7-bdac-8e842b0c6b43",
   "metadata": {},
   "outputs": [],
   "source": [
    "# The data needs to be 2-dimensional and have 13 coefficients, as specified while training the model\n",
    "samples = load_data('model-tester-data/')\n",
    "data = np.array([extract_mfcc(data, sr) for data, sr in samples])\n",
    "scaled_data = loaded_scaler.transform(data)\n",
    "predictions = loaded_model.predict(scaled_data)"
   ]
  },
  {
   "cell_type": "code",
   "execution_count": null,
   "id": "e075bd2d-96c1-49f9-b189-ac2274573aa6",
   "metadata": {},
   "outputs": [],
   "source": [
    "print(predictions)"
   ]
  }
 ],
 "metadata": {
  "kernelspec": {
   "display_name": "Python 3 (ipykernel)",
   "language": "python",
   "name": "python3"
  },
  "language_info": {
   "codemirror_mode": {
    "name": "ipython",
    "version": 3
   },
   "file_extension": ".py",
   "mimetype": "text/x-python",
   "name": "python",
   "nbconvert_exporter": "python",
   "pygments_lexer": "ipython3",
   "version": "3.11.10"
  }
 },
 "nbformat": 4,
 "nbformat_minor": 5
}
